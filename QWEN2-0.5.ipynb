{
 "cells": [
  {
   "cell_type": "code",
   "execution_count": 1,
   "metadata": {},
   "outputs": [],
   "source": [
    "import torch\n",
    "from transformers import AutoModelForCausalLM, AutoTokenizer\n",
    "from torch import nn"
   ]
  },
  {
   "cell_type": "code",
   "execution_count": 2,
   "metadata": {},
   "outputs": [],
   "source": [
    "\n",
    "# Load the tokenizer\n",
    "tokenizer = AutoTokenizer.from_pretrained(\"Qwen/Qwen2.5-0.5B\", trust_remote_code=True)\n"
   ]
  },
  {
   "cell_type": "code",
   "execution_count": 3,
   "metadata": {},
   "outputs": [
    {
     "name": "stderr",
     "output_type": "stream",
     "text": [
      "/Users/amirali/Desktop/Final-Year-Project/.venv/lib/python3.12/site-packages/transformers/generation/configuration_utils.py:818: UserWarning: `return_dict_in_generate` is NOT set to `True`, but `output_hidden_states` is. When `return_dict_in_generate` is not `True`, `output_hidden_states` is ignored.\n",
      "  warnings.warn(\n"
     ]
    }
   ],
   "source": [
    "# Load the model with CPU (avoiding the `device_map` parameter)\n",
    "model = AutoModelForCausalLM.from_pretrained(\n",
    "    \"Qwen/Qwen2.5-0.5B\",\n",
    "    trust_remote_code=True,\n",
    "    torch_dtype=torch.float16,\n",
    "    output_hidden_states=True  # Enable hidden state outputs\n",
    ").to(\"cpu\")\n"
   ]
  },
  {
   "cell_type": "markdown",
   "metadata": {},
   "source": [
    "## Extracts Layer Representations"
   ]
  },
  {
   "cell_type": "code",
   "execution_count": 4,
   "metadata": {},
   "outputs": [],
   "source": [
    "# Custom forward pass to extract hidden states\n",
    "def get_layer_representations(input_text):\n",
    "    tokens = tokenizer(input_text, return_tensors=\"pt\", truncation=True, padding=True).to(\"cpu\")\n",
    "    outputs = model(**tokens)\n",
    "    hidden_states = outputs.hidden_states  # Tuple of hidden states for all layers\n",
    "    return hidden_states"
   ]
  },
  {
   "cell_type": "code",
   "execution_count": 5,
   "metadata": {},
   "outputs": [],
   "source": [
    "# Ask a question as input\n",
    "input_text = \"Hey mate how are you today, you are a great assistant... In the sentence you just processed what emotion was expressed ?\""
   ]
  },
  {
   "cell_type": "code",
   "execution_count": 6,
   "metadata": {},
   "outputs": [],
   "source": [
    "# Tokenize the input\n",
    "encoded_input = tokenizer(\n",
    "    input_text, \n",
    "    return_tensors=\"pt\", \n",
    "    padding=True, \n",
    "    truncation=True\n",
    ").to(\"cpu\")"
   ]
  },
  {
   "cell_type": "code",
   "execution_count": 7,
   "metadata": {},
   "outputs": [
    {
     "name": "stderr",
     "output_type": "stream",
     "text": [
      "Setting `pad_token_id` to `eos_token_id`:151643 for open-end generation.\n"
     ]
    }
   ],
   "source": [
    "# Generate a response\n",
    "output_ids = model.generate(\n",
    "    input_ids=encoded_input[\"input_ids\"].to(\"cpu\"),\n",
    "    attention_mask=encoded_input[\"attention_mask\"].to(\"cpu\"),\n",
    "    max_new_tokens=500,  # Avoid using `max_length` to prevent conflicts\n",
    "    num_beams=2,\n",
    "    num_return_sequences=2\n",
    ")\n"
   ]
  },
  {
   "cell_type": "code",
   "execution_count": 8,
   "metadata": {},
   "outputs": [
    {
     "name": "stdout",
     "output_type": "stream",
     "text": [
      "Hey mate how are you today, you are a great assistant... In the sentence you just processed what emotion was expressed ? The emotion expressed in the sentence \"Hey mate how are you today, you are a great assistant... In the sentence \"Hey mate how are you today, you are a great assistant...\", the emotion expressed is a positive one. The use of the word \"great\" indicates that the speaker is pleased or happy with their current situation.\n"
     ]
    }
   ],
   "source": [
    "\n",
    "# Decode the output\n",
    "response = tokenizer.decode(output_ids[0], skip_special_tokens=True)\n",
    "\n",
    "print(response)\n"
   ]
  },
  {
   "cell_type": "code",
   "execution_count": 9,
   "metadata": {},
   "outputs": [],
   "source": [
    "class ClassifierProbe(nn.Module):\n",
    "    def __init__(self, input_dim, num_classes):\n",
    "        super(ClassifierProbe, self).__init__()\n",
    "        self.fc = nn.Linear(input_dim, num_classes)\n",
    "    \n",
    "    def forward(self, x):\n",
    "        return self.fc(x)\n"
   ]
  },
  {
   "cell_type": "markdown",
   "metadata": {},
   "source": [
    "## Prepare GoEmotion Data"
   ]
  },
  {
   "cell_type": "code",
   "execution_count": 10,
   "metadata": {},
   "outputs": [],
   "source": [
    "import pandas as pd \n",
    "import re\n",
    "import emoji"
   ]
  },
  {
   "cell_type": "code",
   "execution_count": 11,
   "metadata": {},
   "outputs": [
    {
     "name": "stdout",
     "output_type": "stream",
     "text": [
      "\tTrain : \n",
      " 0    My favourite food is anything I didn't have to...\n",
      "1    Now if he does off himself, everyone will thin...\n",
      "2                       WHY THE FUCK IS BAYLESS ISOING\n",
      "3                          To make her feel threatened\n",
      "4                               Dirty Southern Wankers\n",
      "5    OmG pEyToN iSn'T gOoD eNoUgH tO hElP uS iN tHe...\n",
      "6    Yes I heard abt the f bombs! That has to be wh...\n",
      "7    We need more boards and to create a bit more s...\n",
      "8    Damn youtube and outrage drama is super lucrat...\n",
      "9    It might be linked to the trust factor of your...\n",
      "Name: text, dtype: object \n",
      "\n",
      "\tTest : \n",
      " 0    I’m really sorry about your situation :( Altho...\n",
      "1      It's wonderful because it's awful. At not with.\n",
      "2    Kings fan here, good luck to you guys! Will be...\n",
      "3    I didn't know that, thank you for teaching me ...\n",
      "4    They got bored from haunting earth for thousan...\n",
      "5    Thank you for asking questions and recognizing...\n",
      "6                                       You’re welcome\n",
      "7                      100%! Congrats on your job too!\n",
      "8    I’m sorry to hear that friend :(. It’s for the...\n",
      "9     Girlfriend weak as well, that jump was pathetic.\n",
      "Name: text, dtype: object \n",
      "\n",
      "\tValidation : \n",
      " 0    Is this in New Orleans?? I really feel like th...\n",
      "1    You know the answer man, you are programmed to...\n",
      "2                 I've never been this sad in my life!\n",
      "3    The economy is heavily controlled and subsidiz...\n",
      "4    He could have easily taken a real camera from ...\n",
      "5    Thank you for your vote of confidence, but we ...\n",
      "6    Wah Mum other people call me on my bullshit an...\n",
      "7                                         There it is!\n",
      "8    At least now [NAME] has more time to gain his ...\n",
      "9    Good. We don't want more thrash liberal offspr...\n",
      "Name: text, dtype: object\n"
     ]
    }
   ],
   "source": [
    "GoEmotion_train= pd.read_csv('Go_Emotion_Google/go_emotions_train.csv')\n",
    "GoEmotion_test = pd.read_csv('Go_Emotion_Google/go_emotions_test.csv')\n",
    "GoEmotion_val = pd.read_csv('Go_Emotion_Google/go_emotions_validation.csv')\n",
    "\n",
    "df_train = pd.DataFrame(GoEmotion_train)\n",
    "df_test = pd.DataFrame(GoEmotion_test)\n",
    "df_validation = pd.DataFrame(GoEmotion_val)\n",
    "\n",
    "\n",
    "df_train = df_train[:5000]\n",
    "df_test = df_test[:5000]\n",
    "df_validation = df_validation[:5000]\n",
    "\n",
    "print(\"\\tTrain : \\n\", df_train[\"text\"].head(10), \"\\n\\n\\tTest : \\n\", df_test[\"text\"].head(10), \"\\n\\n\\tValidation : \\n\", df_validation[\"text\"].head(10))\n"
   ]
  },
  {
   "cell_type": "code",
   "execution_count": 12,
   "metadata": {},
   "outputs": [],
   "source": [
    "def preprocess_text(text):\n",
    "    # Convert to lowercase\n",
    "    text = text.lower()\n",
    "    # Remove unwanted punctuations\n",
    "    \n",
    "    # Handle specific punctuations and emoticons\n",
    "    emoticon_dict = {\n",
    "        \":)\": \"happy\",\n",
    "        \":))\": \"happy\",\n",
    "        \":-)\": \"happy\",\n",
    "        \":-))\": \"happy\",\n",
    "        \":(\": \"sad\",\n",
    "        \":((\": \"sad\",\n",
    "        \":-((\": \"sad\",\n",
    "        \":-((\": \"sad\",\n",
    "        \":/\": \"confusion\", \n",
    "        \"://\": \"confusion\", \n",
    "        \":-/\": \"confusion\",\n",
    "        \":-//\": \"confusion\",\n",
    "        \":\\\\\": \"confusion\",\n",
    "        \":-\\\\\": \"confusion\",\n",
    "        \":|\": \"neutral\",\n",
    "        \":-|\": \"neutral\",\n",
    "        \"XD\": \"laugh\",\n",
    "        \":D\": \"laugh\",\n",
    "        \":-D\": \"laugh\"\n",
    "    }\n",
    "    \n",
    "    # Replace emoticons with words\n",
    "    for emoticon, replacement in emoticon_dict.items():\n",
    "        text = text.replace(emoticon, replacement)\n",
    "    \n",
    "    # Handle emojis\n",
    "    text = emoji.demojize(text)\n",
    "    \n",
    "    # Remove non-alphanumeric characters except spaces (next line removes unnecessary spaces)\n",
    "    text = re.sub(r'[^a-zA-Z0-9\\s]', '', text)\n",
    "    text = re.sub(r'\\s+', ' ', text).strip()\n",
    "    \n",
    "    return text\n",
    "\n",
    "\n",
    "# Apply preprocessing to the text column\n",
    "df_train['cleaned_text'] = df_train['text'].apply(preprocess_text)\n",
    "df_test['cleaned_text'] = df_test['text'].apply(preprocess_text)\n",
    "df_validation['cleaned_text'] = df_validation['text'].apply(preprocess_text)"
   ]
  },
  {
   "cell_type": "code",
   "execution_count": 13,
   "metadata": {},
   "outputs": [],
   "source": [
    "def string_to_list(label_input):\n",
    "    \"\"\"\n",
    "    Convert string representation of an array into a list of integers.\n",
    "    \n",
    "    Args:\n",
    "    label_str (str): String representation of an array, e.g., '[6 7]'.\n",
    "    \n",
    "    Returns:\n",
    "    list: A list of integers.\n",
    "    \"\"\"\n",
    "    if isinstance(label_input, list):\n",
    "        # If it's already a list, return it as-is\n",
    "        return [int(x) for x in label_input]\n",
    "    elif isinstance(label_input, str):\n",
    "        # If it's a string, parse it\n",
    "        return [int(x) for x in label_input.strip('[]').replace(',', '').split()]\n",
    "    else:\n",
    "        raise ValueError(\"label_input must be a string or a list.\")"
   ]
  },
  {
   "cell_type": "code",
   "execution_count": 14,
   "metadata": {},
   "outputs": [],
   "source": [
    "# The index of each emotion refers to the value stored for each emotion as label, those can be translated by these explanations \n",
    "emotions = ['admiration', 'amusement', 'anger', 'annoyance', 'approval', 'caring', 'confusion', 'curiosity', 'desire',\n",
    "            'disappointment', 'disapproval', 'disgust', 'embarrassment', 'excitement', 'fear', 'gratitude', 'grief',\n",
    "            'joy', 'love', 'nervousness','optimism', 'pride', 'realization', 'relief', 'remorse', 'sadness', 'surprise', 'neutral']\n",
    "\n",
    "positive = {\"admiration\", \"amusement\", \"approval\", \"caring\", \"desire\", \"excitement\",\n",
    "            \"gratitude\", \"joy\", \"love\", \"optimism\", \"pride\", \"relief\"}\n",
    "\n",
    "ambiguous = {\"confusion\", \"curiosity\", \"surprise\", \"realization\", \"neutral\"}\n",
    "\n",
    "negative = {\"anger\", \"annoyance\", \"disappointment\", \"disapproval\", \"disgust\",\n",
    "            \"embarrassment\", \"fear\", \"grief\", \"nervousness\", \"remorse\", \"sadness\"}"
   ]
  },
  {
   "cell_type": "code",
   "execution_count": 15,
   "metadata": {},
   "outputs": [],
   "source": [
    "All_DF = [df_train, df_test, df_validation]\n",
    "\n",
    "for df in All_DF:\n",
    "    df['emotions'] = None\n",
    "\n",
    "    for i in range(len(df['text'])):\n",
    "\n",
    "        indexes = df['labels'][i]\n",
    "        parsed_indexes = list(string_to_list(indexes))\n",
    "        \n",
    "        df.at[i, 'labels'] = str(parsed_indexes)\n",
    "        \n",
    "        emotion_texts = []\n",
    "        for index in parsed_indexes:\n",
    "            emotion_texts.append(emotions[index])\n",
    "        \n",
    "        df.at[i, 'emotions'] = emotion_texts\n",
    "        "
   ]
  },
  {
   "cell_type": "code",
   "execution_count": 16,
   "metadata": {},
   "outputs": [],
   "source": [
    "train_texts = df_train[\"cleaned_text\"]\n",
    "train_labels = df_train[\"labels\"]\n",
    "val_texts = df_validation[\"cleaned_text\"]\n",
    "val_labels = df_validation[\"labels\"]"
   ]
  },
  {
   "cell_type": "code",
   "execution_count": 17,
   "metadata": {},
   "outputs": [],
   "source": [
    "from torch.utils.data import DataLoader, Dataset\n",
    "import torch\n",
    "\n",
    "class GoEmotionDataset(Dataset):\n",
    "    def __init__(self, texts, labels, tokenizer, max_length=128):\n",
    "        self.texts = texts\n",
    "        self.labels = labels\n",
    "        self.tokenizer = tokenizer\n",
    "        self.max_length = max_length\n",
    "\n",
    "    def __len__(self):\n",
    "        return len(self.texts)\n",
    "\n",
    "    def __getitem__(self, idx):\n",
    "        tokens = self.tokenizer(\n",
    "            self.texts[idx],\n",
    "            truncation=True,\n",
    "            padding=\"max_length\",\n",
    "            max_length=self.max_length,\n",
    "            return_tensors=\"pt\"\n",
    "        )\n",
    "        tokens = {k: v.squeeze(0) for k, v in tokens.items()}  # Squeeze batch dimension\n",
    "        \n",
    "        # Convert labels from string lists to numeric indices\n",
    "        label_str = self.labels[idx]  # This is the label string that needs parsing\n",
    "        \n",
    "        # Ensure label_str is a list of integers (emotions indices)\n",
    "        try:\n",
    "            parsed_labels = string_to_list(label_str)\n",
    "        except ValueError as e:\n",
    "            print(f\"Error parsing label: {label_str}\")\n",
    "            raise e\n",
    "        \n",
    "        # Convert to a tensor (using multi-labels, it's often common to use float32 for multi-hot)\n",
    "        label_tensor = torch.tensor(parsed_labels, dtype=torch.float32)\n",
    "        \n",
    "        return tokens, label_tensor\n",
    "\n"
   ]
  },
  {
   "cell_type": "code",
   "execution_count": 18,
   "metadata": {},
   "outputs": [],
   "source": [
    "def custom_collate_fn(batch):\n",
    "    token_keys = batch[0][0].keys()\n",
    "    collated_tokens = {key: torch.stack([item[0][key] for item in batch]) for key in token_keys}\n",
    "    \n",
    "    # Find the maximum label length in the batch\n",
    "    max_label_len = max([len(item[1]) for item in batch])\n",
    "    \n",
    "    # Pad labels to ensure they are all the same size\n",
    "    padded_labels = []\n",
    "    for item in batch:\n",
    "        label_tensor = item[1]\n",
    "        padding = max_label_len - len(label_tensor)\n",
    "        padded_labels.append(torch.cat([label_tensor, torch.zeros(padding, dtype=torch.float32)]))\n",
    "    \n",
    "    # Stack the padded labels\n",
    "    labels = torch.stack(padded_labels)\n",
    "    \n",
    "    return collated_tokens, labels\n"
   ]
  },
  {
   "cell_type": "code",
   "execution_count": 19,
   "metadata": {},
   "outputs": [],
   "source": [
    "# Define train and validation datasets\n",
    "train_dataset = GoEmotionDataset(train_texts.tolist(), train_labels.tolist(), tokenizer)\n",
    "val_dataset = GoEmotionDataset(val_texts.tolist(), val_labels.tolist(), tokenizer)\n",
    "\n",
    "# Define DataLoaders with custom collate function\n",
    "train_loader = DataLoader(train_dataset, batch_size=16, shuffle=True, collate_fn=custom_collate_fn)\n",
    "val_loader = DataLoader(val_dataset, batch_size=16, collate_fn=custom_collate_fn)"
   ]
  },
  {
   "cell_type": "code",
   "execution_count": 20,
   "metadata": {},
   "outputs": [],
   "source": [
    "from torch import nn\n",
    "import torch.optim as optim\n",
    "from sklearn.model_selection import train_test_split"
   ]
  },
  {
   "cell_type": "code",
   "execution_count": 21,
   "metadata": {},
   "outputs": [],
   "source": [
    "# Get hidden state sizes for initializing probes\n",
    "hidden_state_sizes = [\n",
    "    layer.shape[-1] for layer in model(**tokenizer(\"example text\", return_tensors=\"pt\")).hidden_states\n",
    "]\n",
    "num_classes = 28  # Assuming labels are integers starting from 0\n",
    "probes = [ClassifierProbe(size, num_classes).to(\"cpu\") for size in hidden_state_sizes]"
   ]
  },
  {
   "cell_type": "code",
   "execution_count": 22,
   "metadata": {},
   "outputs": [],
   "source": [
    "# Training loop\n",
    "loss_fn = nn.CrossEntropyLoss()\n",
    "optimizers = [optim.Adam(probe.parameters(), lr=1e-4) for probe in probes]"
   ]
  },
  {
   "cell_type": "code",
   "execution_count": 23,
   "metadata": {},
   "outputs": [],
   "source": [
    "All_DF = [df_train, df_test, df_validation]\n",
    "\n",
    "for df in All_DF:\n",
    "    for i in range(len(df['text'])):\n",
    "\n",
    "        indexes = df['labels'][i]\n",
    "        parsed_indexes = list(string_to_list(indexes))\n",
    "        \n",
    "        df.at[i, 'labels'] = str(parsed_indexes)\n",
    "        \n",
    "        "
   ]
  },
  {
   "cell_type": "code",
   "execution_count": 24,
   "metadata": {},
   "outputs": [
    {
     "data": {
      "text/plain": [
       "0                  [neutral]\n",
       "1                  [neutral]\n",
       "2                    [anger]\n",
       "3                     [fear]\n",
       "4                [annoyance]\n",
       "                ...         \n",
       "4995               [neutral]\n",
       "4996            [admiration]\n",
       "4997                  [fear]\n",
       "4998             [gratitude]\n",
       "4999    [amusement, sadness]\n",
       "Name: emotions, Length: 5000, dtype: object"
      ]
     },
     "execution_count": 24,
     "metadata": {},
     "output_type": "execute_result"
    }
   ],
   "source": [
    "df_train['emotions']"
   ]
  },
  {
   "cell_type": "code",
   "execution_count": 25,
   "metadata": {},
   "outputs": [
    {
     "name": "stdout",
     "output_type": "stream",
     "text": [
      "Input IDs shape: torch.Size([16, 128])\n",
      "Attention mask shape: torch.Size([16, 128])\n",
      "label_list: [27]\n",
      "emotions: ['admiration', 'amusement', 'anger', 'annoyance', 'approval', 'caring', 'confusion', 'curiosity', 'desire', 'disappointment', 'disapproval', 'disgust', 'embarrassment', 'excitement', 'fear', 'gratitude', 'grief', 'joy', 'love', 'nervousness', 'optimism', 'pride', 'realization', 'relief', 'remorse', 'sadness', 'surprise', 'neutral']\n",
      "Unknown emotion in label_list: [27]. Error: 27\n",
      "label_list: [27]\n",
      "emotions: ['admiration', 'amusement', 'anger', 'annoyance', 'approval', 'caring', 'confusion', 'curiosity', 'desire', 'disappointment', 'disapproval', 'disgust', 'embarrassment', 'excitement', 'fear', 'gratitude', 'grief', 'joy', 'love', 'nervousness', 'optimism', 'pride', 'realization', 'relief', 'remorse', 'sadness', 'surprise', 'neutral']\n",
      "Unknown emotion in label_list: [27]. Error: 27\n",
      "label_list: [2]\n",
      "emotions: ['admiration', 'amusement', 'anger', 'annoyance', 'approval', 'caring', 'confusion', 'curiosity', 'desire', 'disappointment', 'disapproval', 'disgust', 'embarrassment', 'excitement', 'fear', 'gratitude', 'grief', 'joy', 'love', 'nervousness', 'optimism', 'pride', 'realization', 'relief', 'remorse', 'sadness', 'surprise', 'neutral']\n",
      "Unknown emotion in label_list: [2]. Error: 2\n",
      "label_list: [14]\n",
      "emotions: ['admiration', 'amusement', 'anger', 'annoyance', 'approval', 'caring', 'confusion', 'curiosity', 'desire', 'disappointment', 'disapproval', 'disgust', 'embarrassment', 'excitement', 'fear', 'gratitude', 'grief', 'joy', 'love', 'nervousness', 'optimism', 'pride', 'realization', 'relief', 'remorse', 'sadness', 'surprise', 'neutral']\n",
      "Unknown emotion in label_list: [14]. Error: 14\n",
      "label_list: [3]\n",
      "emotions: ['admiration', 'amusement', 'anger', 'annoyance', 'approval', 'caring', 'confusion', 'curiosity', 'desire', 'disappointment', 'disapproval', 'disgust', 'embarrassment', 'excitement', 'fear', 'gratitude', 'grief', 'joy', 'love', 'nervousness', 'optimism', 'pride', 'realization', 'relief', 'remorse', 'sadness', 'surprise', 'neutral']\n",
      "Unknown emotion in label_list: [3]. Error: 3\n",
      "label_list: [26]\n",
      "emotions: ['admiration', 'amusement', 'anger', 'annoyance', 'approval', 'caring', 'confusion', 'curiosity', 'desire', 'disappointment', 'disapproval', 'disgust', 'embarrassment', 'excitement', 'fear', 'gratitude', 'grief', 'joy', 'love', 'nervousness', 'optimism', 'pride', 'realization', 'relief', 'remorse', 'sadness', 'surprise', 'neutral']\n",
      "Unknown emotion in label_list: [26]. Error: 26\n",
      "label_list: [15]\n",
      "emotions: ['admiration', 'amusement', 'anger', 'annoyance', 'approval', 'caring', 'confusion', 'curiosity', 'desire', 'disappointment', 'disapproval', 'disgust', 'embarrassment', 'excitement', 'fear', 'gratitude', 'grief', 'joy', 'love', 'nervousness', 'optimism', 'pride', 'realization', 'relief', 'remorse', 'sadness', 'surprise', 'neutral']\n",
      "Unknown emotion in label_list: [15]. Error: 15\n",
      "label_list: [8, 20]\n",
      "emotions: ['admiration', 'amusement', 'anger', 'annoyance', 'approval', 'caring', 'confusion', 'curiosity', 'desire', 'disappointment', 'disapproval', 'disgust', 'embarrassment', 'excitement', 'fear', 'gratitude', 'grief', 'joy', 'love', 'nervousness', 'optimism', 'pride', 'realization', 'relief', 'remorse', 'sadness', 'surprise', 'neutral']\n",
      "Unknown emotion in label_list: [8, 20]. Error: 8\n",
      "label_list: [0]\n",
      "emotions: ['admiration', 'amusement', 'anger', 'annoyance', 'approval', 'caring', 'confusion', 'curiosity', 'desire', 'disappointment', 'disapproval', 'disgust', 'embarrassment', 'excitement', 'fear', 'gratitude', 'grief', 'joy', 'love', 'nervousness', 'optimism', 'pride', 'realization', 'relief', 'remorse', 'sadness', 'surprise', 'neutral']\n",
      "Unknown emotion in label_list: [0]. Error: 0\n",
      "label_list: [27]\n",
      "emotions: ['admiration', 'amusement', 'anger', 'annoyance', 'approval', 'caring', 'confusion', 'curiosity', 'desire', 'disappointment', 'disapproval', 'disgust', 'embarrassment', 'excitement', 'fear', 'gratitude', 'grief', 'joy', 'love', 'nervousness', 'optimism', 'pride', 'realization', 'relief', 'remorse', 'sadness', 'surprise', 'neutral']\n",
      "Unknown emotion in label_list: [27]. Error: 27\n",
      "label_list: [6]\n",
      "emotions: ['admiration', 'amusement', 'anger', 'annoyance', 'approval', 'caring', 'confusion', 'curiosity', 'desire', 'disappointment', 'disapproval', 'disgust', 'embarrassment', 'excitement', 'fear', 'gratitude', 'grief', 'joy', 'love', 'nervousness', 'optimism', 'pride', 'realization', 'relief', 'remorse', 'sadness', 'surprise', 'neutral']\n",
      "Unknown emotion in label_list: [6]. Error: 6\n",
      "label_list: [1, 4]\n",
      "emotions: ['admiration', 'amusement', 'anger', 'annoyance', 'approval', 'caring', 'confusion', 'curiosity', 'desire', 'disappointment', 'disapproval', 'disgust', 'embarrassment', 'excitement', 'fear', 'gratitude', 'grief', 'joy', 'love', 'nervousness', 'optimism', 'pride', 'realization', 'relief', 'remorse', 'sadness', 'surprise', 'neutral']\n",
      "Unknown emotion in label_list: [1, 4]. Error: 1\n",
      "label_list: [27]\n",
      "emotions: ['admiration', 'amusement', 'anger', 'annoyance', 'approval', 'caring', 'confusion', 'curiosity', 'desire', 'disappointment', 'disapproval', 'disgust', 'embarrassment', 'excitement', 'fear', 'gratitude', 'grief', 'joy', 'love', 'nervousness', 'optimism', 'pride', 'realization', 'relief', 'remorse', 'sadness', 'surprise', 'neutral']\n",
      "Unknown emotion in label_list: [27]. Error: 27\n",
      "label_list: [5]\n",
      "emotions: ['admiration', 'amusement', 'anger', 'annoyance', 'approval', 'caring', 'confusion', 'curiosity', 'desire', 'disappointment', 'disapproval', 'disgust', 'embarrassment', 'excitement', 'fear', 'gratitude', 'grief', 'joy', 'love', 'nervousness', 'optimism', 'pride', 'realization', 'relief', 'remorse', 'sadness', 'surprise', 'neutral']\n",
      "Unknown emotion in label_list: [5]. Error: 5\n",
      "label_list: [3]\n",
      "emotions: ['admiration', 'amusement', 'anger', 'annoyance', 'approval', 'caring', 'confusion', 'curiosity', 'desire', 'disappointment', 'disapproval', 'disgust', 'embarrassment', 'excitement', 'fear', 'gratitude', 'grief', 'joy', 'love', 'nervousness', 'optimism', 'pride', 'realization', 'relief', 'remorse', 'sadness', 'surprise', 'neutral']\n",
      "Unknown emotion in label_list: [3]. Error: 3\n",
      "label_list: [3, 12]\n",
      "emotions: ['admiration', 'amusement', 'anger', 'annoyance', 'approval', 'caring', 'confusion', 'curiosity', 'desire', 'disappointment', 'disapproval', 'disgust', 'embarrassment', 'excitement', 'fear', 'gratitude', 'grief', 'joy', 'love', 'nervousness', 'optimism', 'pride', 'realization', 'relief', 'remorse', 'sadness', 'surprise', 'neutral']\n",
      "Unknown emotion in label_list: [3, 12]. Error: 3\n",
      "label_list: [15]\n",
      "emotions: ['admiration', 'amusement', 'anger', 'annoyance', 'approval', 'caring', 'confusion', 'curiosity', 'desire', 'disappointment', 'disapproval', 'disgust', 'embarrassment', 'excitement', 'fear', 'gratitude', 'grief', 'joy', 'love', 'nervousness', 'optimism', 'pride', 'realization', 'relief', 'remorse', 'sadness', 'surprise', 'neutral']\n",
      "Unknown emotion in label_list: [15]. Error: 15\n",
      "label_list: [2]\n",
      "emotions: ['admiration', 'amusement', 'anger', 'annoyance', 'approval', 'caring', 'confusion', 'curiosity', 'desire', 'disappointment', 'disapproval', 'disgust', 'embarrassment', 'excitement', 'fear', 'gratitude', 'grief', 'joy', 'love', 'nervousness', 'optimism', 'pride', 'realization', 'relief', 'remorse', 'sadness', 'surprise', 'neutral']\n",
      "Unknown emotion in label_list: [2]. Error: 2\n",
      "label_list: [27]\n",
      "emotions: ['admiration', 'amusement', 'anger', 'annoyance', 'approval', 'caring', 'confusion', 'curiosity', 'desire', 'disappointment', 'disapproval', 'disgust', 'embarrassment', 'excitement', 'fear', 'gratitude', 'grief', 'joy', 'love', 'nervousness', 'optimism', 'pride', 'realization', 'relief', 'remorse', 'sadness', 'surprise', 'neutral']\n",
      "Unknown emotion in label_list: [27]. Error: 27\n",
      "label_list: [6, 22]\n",
      "emotions: ['admiration', 'amusement', 'anger', 'annoyance', 'approval', 'caring', 'confusion', 'curiosity', 'desire', 'disappointment', 'disapproval', 'disgust', 'embarrassment', 'excitement', 'fear', 'gratitude', 'grief', 'joy', 'love', 'nervousness', 'optimism', 'pride', 'realization', 'relief', 'remorse', 'sadness', 'surprise', 'neutral']\n",
      "Unknown emotion in label_list: [6, 22]. Error: 6\n",
      "label_list: [6, 9, 27]\n",
      "emotions: ['admiration', 'amusement', 'anger', 'annoyance', 'approval', 'caring', 'confusion', 'curiosity', 'desire', 'disappointment', 'disapproval', 'disgust', 'embarrassment', 'excitement', 'fear', 'gratitude', 'grief', 'joy', 'love', 'nervousness', 'optimism', 'pride', 'realization', 'relief', 'remorse', 'sadness', 'surprise', 'neutral']\n",
      "Unknown emotion in label_list: [6, 9, 27]. Error: 6\n",
      "label_list: [12]\n",
      "emotions: ['admiration', 'amusement', 'anger', 'annoyance', 'approval', 'caring', 'confusion', 'curiosity', 'desire', 'disappointment', 'disapproval', 'disgust', 'embarrassment', 'excitement', 'fear', 'gratitude', 'grief', 'joy', 'love', 'nervousness', 'optimism', 'pride', 'realization', 'relief', 'remorse', 'sadness', 'surprise', 'neutral']\n",
      "Unknown emotion in label_list: [12]. Error: 12\n",
      "label_list: [27]\n",
      "emotions: ['admiration', 'amusement', 'anger', 'annoyance', 'approval', 'caring', 'confusion', 'curiosity', 'desire', 'disappointment', 'disapproval', 'disgust', 'embarrassment', 'excitement', 'fear', 'gratitude', 'grief', 'joy', 'love', 'nervousness', 'optimism', 'pride', 'realization', 'relief', 'remorse', 'sadness', 'surprise', 'neutral']\n",
      "Unknown emotion in label_list: [27]. Error: 27\n",
      "label_list: [27]\n",
      "emotions: ['admiration', 'amusement', 'anger', 'annoyance', 'approval', 'caring', 'confusion', 'curiosity', 'desire', 'disappointment', 'disapproval', 'disgust', 'embarrassment', 'excitement', 'fear', 'gratitude', 'grief', 'joy', 'love', 'nervousness', 'optimism', 'pride', 'realization', 'relief', 'remorse', 'sadness', 'surprise', 'neutral']\n",
      "Unknown emotion in label_list: [27]. Error: 27\n",
      "label_list: [27]\n",
      "emotions: ['admiration', 'amusement', 'anger', 'annoyance', 'approval', 'caring', 'confusion', 'curiosity', 'desire', 'disappointment', 'disapproval', 'disgust', 'embarrassment', 'excitement', 'fear', 'gratitude', 'grief', 'joy', 'love', 'nervousness', 'optimism', 'pride', 'realization', 'relief', 'remorse', 'sadness', 'surprise', 'neutral']\n",
      "Unknown emotion in label_list: [27]. Error: 27\n",
      "Epoch 1 complete.\n",
      "Input IDs shape: torch.Size([16, 128])\n",
      "Attention mask shape: torch.Size([16, 128])\n"
     ]
    }
   ],
   "source": [
    "for epoch in range(3):  # Example with 3 epochs\n",
    "    model.eval()  # Ensure the model stays in evaluation mode\n",
    "    for tokens, labels in train_loader:\n",
    "        # Ensure correct shapes\n",
    "        tokens = {k: v.squeeze(0).to(\"cpu\") if v.dim() == 3 else v.to(\"cpu\") for k, v in tokens.items()}\n",
    "        labels = labels.to(\"cpu\")\n",
    "        \n",
    "        # Debug: Inspect token shapes\n",
    "        print(f\"Input IDs shape: {tokens['input_ids'].shape}\")\n",
    "        print(f\"Attention mask shape: {tokens['attention_mask'].shape}\")\n",
    "\n",
    "        try:\n",
    "            outputs = model(**tokens, output_hidden_states=True)\n",
    "        except RuntimeError as e:\n",
    "            print(\"Error during model forward pass:\", e)\n",
    "            continue\n",
    "\n",
    "        hidden_states = outputs.hidden_states\n",
    "\n",
    "        # Train each probe on its corresponding layer\n",
    "        # Process each label\n",
    "        for i, (probe, optimizer) in enumerate(zip(probes, optimizers)):\n",
    "            optimizer.zero_grad()\n",
    "            \n",
    "            # Convert labels to indices\n",
    "            label_str = df_train['labels'][i]  # Assuming this is the label in string format\n",
    "            label_list = string_to_list(label_str)\n",
    "            \n",
    "            print(f\"label_list: {label_list}\")\n",
    "            print(f\"emotions: {emotions}\")\n",
    "\n",
    "                        \n",
    "            # Create reverse mapping\n",
    "            emotion_to_index = {emotion: idx for idx, emotion in enumerate(emotions)}\n",
    "\n",
    "            # Convert labels to indices using the dictionary\n",
    "            try:\n",
    "                label_indices = [emotion_to_index[emotion] for emotion in label_list]\n",
    "            except KeyError as e:\n",
    "                print(f\"Unknown emotion in label_list: {label_list}. Error: {e}\")\n",
    "                continue\n",
    "\n",
    "            # Detach the hidden states for the current layer\n",
    "            layer_rep = hidden_states[i].detach()  # Detach to avoid backprop through the main model\n",
    "            \n",
    "            logits = probe(layer_rep)\n",
    "            loss = loss_fn(logits, label_indices)  # Assuming label_indices are properly formatted\n",
    "            loss.backward()\n",
    "            optimizer.step()\n",
    "\n",
    "        print(f\"Epoch {epoch + 1} complete.\")\n",
    "\n"
   ]
  },
  {
   "cell_type": "code",
   "execution_count": null,
   "metadata": {},
   "outputs": [
    {
     "ename": "TypeError",
     "evalue": "new(): invalid data type 'str'",
     "output_type": "error",
     "traceback": [
      "\u001b[0;31m---------------------------------------------------------------------------\u001b[0m",
      "\u001b[0;31mTypeError\u001b[0m                                 Traceback (most recent call last)",
      "Cell \u001b[0;32mIn[52], line 14\u001b[0m\n\u001b[1;32m     12\u001b[0m \u001b[38;5;28;01mfor\u001b[39;00m epoch \u001b[38;5;129;01min\u001b[39;00m \u001b[38;5;28mrange\u001b[39m(\u001b[38;5;241m3\u001b[39m):  \u001b[38;5;66;03m# Example with 3 epochs\u001b[39;00m\n\u001b[1;32m     13\u001b[0m     model\u001b[38;5;241m.\u001b[39meval()  \u001b[38;5;66;03m# Ensure the model stays in evaluation mode\u001b[39;00m\n\u001b[0;32m---> 14\u001b[0m \u001b[43m    \u001b[49m\u001b[38;5;28;43;01mfor\u001b[39;49;00m\u001b[43m \u001b[49m\u001b[43mtokens\u001b[49m\u001b[43m,\u001b[49m\u001b[43m \u001b[49m\u001b[43mlabels\u001b[49m\u001b[43m \u001b[49m\u001b[38;5;129;43;01min\u001b[39;49;00m\u001b[43m \u001b[49m\u001b[43mtrain_loader\u001b[49m\u001b[43m:\u001b[49m\n\u001b[1;32m     15\u001b[0m \u001b[43m        \u001b[49m\u001b[43mtokens\u001b[49m\u001b[43m \u001b[49m\u001b[38;5;241;43m=\u001b[39;49m\u001b[43m \u001b[49m\u001b[43m{\u001b[49m\u001b[43mk\u001b[49m\u001b[43m:\u001b[49m\u001b[43m \u001b[49m\u001b[43mv\u001b[49m\u001b[38;5;241;43m.\u001b[39;49m\u001b[43msqueeze\u001b[49m\u001b[43m(\u001b[49m\u001b[38;5;241;43m0\u001b[39;49m\u001b[43m)\u001b[49m\u001b[38;5;241;43m.\u001b[39;49m\u001b[43mto\u001b[49m\u001b[43m(\u001b[49m\u001b[38;5;124;43m\"\u001b[39;49m\u001b[38;5;124;43mcpu\u001b[39;49m\u001b[38;5;124;43m\"\u001b[39;49m\u001b[43m)\u001b[49m\u001b[43m \u001b[49m\u001b[38;5;28;43;01mfor\u001b[39;49;00m\u001b[43m \u001b[49m\u001b[43mk\u001b[49m\u001b[43m,\u001b[49m\u001b[43m \u001b[49m\u001b[43mv\u001b[49m\u001b[43m \u001b[49m\u001b[38;5;129;43;01min\u001b[39;49;00m\u001b[43m \u001b[49m\u001b[43mtokens\u001b[49m\u001b[38;5;241;43m.\u001b[39;49m\u001b[43mitems\u001b[49m\u001b[43m(\u001b[49m\u001b[43m)\u001b[49m\u001b[43m}\u001b[49m\u001b[43m  \u001b[49m\u001b[38;5;66;43;03m# Remove extra dimension\u001b[39;49;00m\n\u001b[1;32m     16\u001b[0m \u001b[43m        \u001b[49m\u001b[43mlabels\u001b[49m\u001b[43m \u001b[49m\u001b[38;5;241;43m=\u001b[39;49m\u001b[43m \u001b[49m\u001b[43mlabels\u001b[49m\u001b[38;5;241;43m.\u001b[39;49m\u001b[43mto\u001b[49m\u001b[43m(\u001b[49m\u001b[38;5;124;43m\"\u001b[39;49m\u001b[38;5;124;43mcpu\u001b[39;49m\u001b[38;5;124;43m\"\u001b[39;49m\u001b[43m)\u001b[49m\n",
      "File \u001b[0;32m~/Desktop/Final-Year-Project/.venv/lib/python3.12/site-packages/torch/utils/data/dataloader.py:631\u001b[0m, in \u001b[0;36m_BaseDataLoaderIter.__next__\u001b[0;34m(self)\u001b[0m\n\u001b[1;32m    628\u001b[0m \u001b[38;5;28;01mif\u001b[39;00m \u001b[38;5;28mself\u001b[39m\u001b[38;5;241m.\u001b[39m_sampler_iter \u001b[38;5;129;01mis\u001b[39;00m \u001b[38;5;28;01mNone\u001b[39;00m:\n\u001b[1;32m    629\u001b[0m     \u001b[38;5;66;03m# TODO(https://github.com/pytorch/pytorch/issues/76750)\u001b[39;00m\n\u001b[1;32m    630\u001b[0m     \u001b[38;5;28mself\u001b[39m\u001b[38;5;241m.\u001b[39m_reset()  \u001b[38;5;66;03m# type: ignore[call-arg]\u001b[39;00m\n\u001b[0;32m--> 631\u001b[0m data \u001b[38;5;241m=\u001b[39m \u001b[38;5;28;43mself\u001b[39;49m\u001b[38;5;241;43m.\u001b[39;49m\u001b[43m_next_data\u001b[49m\u001b[43m(\u001b[49m\u001b[43m)\u001b[49m\n\u001b[1;32m    632\u001b[0m \u001b[38;5;28mself\u001b[39m\u001b[38;5;241m.\u001b[39m_num_yielded \u001b[38;5;241m+\u001b[39m\u001b[38;5;241m=\u001b[39m \u001b[38;5;241m1\u001b[39m\n\u001b[1;32m    633\u001b[0m \u001b[38;5;28;01mif\u001b[39;00m \u001b[38;5;28mself\u001b[39m\u001b[38;5;241m.\u001b[39m_dataset_kind \u001b[38;5;241m==\u001b[39m _DatasetKind\u001b[38;5;241m.\u001b[39mIterable \u001b[38;5;129;01mand\u001b[39;00m \\\n\u001b[1;32m    634\u001b[0m         \u001b[38;5;28mself\u001b[39m\u001b[38;5;241m.\u001b[39m_IterableDataset_len_called \u001b[38;5;129;01mis\u001b[39;00m \u001b[38;5;129;01mnot\u001b[39;00m \u001b[38;5;28;01mNone\u001b[39;00m \u001b[38;5;129;01mand\u001b[39;00m \\\n\u001b[1;32m    635\u001b[0m         \u001b[38;5;28mself\u001b[39m\u001b[38;5;241m.\u001b[39m_num_yielded \u001b[38;5;241m>\u001b[39m \u001b[38;5;28mself\u001b[39m\u001b[38;5;241m.\u001b[39m_IterableDataset_len_called:\n",
      "File \u001b[0;32m~/Desktop/Final-Year-Project/.venv/lib/python3.12/site-packages/torch/utils/data/dataloader.py:675\u001b[0m, in \u001b[0;36m_SingleProcessDataLoaderIter._next_data\u001b[0;34m(self)\u001b[0m\n\u001b[1;32m    673\u001b[0m \u001b[38;5;28;01mdef\u001b[39;00m\u001b[38;5;250m \u001b[39m\u001b[38;5;21m_next_data\u001b[39m(\u001b[38;5;28mself\u001b[39m):\n\u001b[1;32m    674\u001b[0m     index \u001b[38;5;241m=\u001b[39m \u001b[38;5;28mself\u001b[39m\u001b[38;5;241m.\u001b[39m_next_index()  \u001b[38;5;66;03m# may raise StopIteration\u001b[39;00m\n\u001b[0;32m--> 675\u001b[0m     data \u001b[38;5;241m=\u001b[39m \u001b[38;5;28;43mself\u001b[39;49m\u001b[38;5;241;43m.\u001b[39;49m\u001b[43m_dataset_fetcher\u001b[49m\u001b[38;5;241;43m.\u001b[39;49m\u001b[43mfetch\u001b[49m\u001b[43m(\u001b[49m\u001b[43mindex\u001b[49m\u001b[43m)\u001b[49m  \u001b[38;5;66;03m# may raise StopIteration\u001b[39;00m\n\u001b[1;32m    676\u001b[0m     \u001b[38;5;28;01mif\u001b[39;00m \u001b[38;5;28mself\u001b[39m\u001b[38;5;241m.\u001b[39m_pin_memory:\n\u001b[1;32m    677\u001b[0m         data \u001b[38;5;241m=\u001b[39m _utils\u001b[38;5;241m.\u001b[39mpin_memory\u001b[38;5;241m.\u001b[39mpin_memory(data, \u001b[38;5;28mself\u001b[39m\u001b[38;5;241m.\u001b[39m_pin_memory_device)\n",
      "File \u001b[0;32m~/Desktop/Final-Year-Project/.venv/lib/python3.12/site-packages/torch/utils/data/_utils/fetch.py:51\u001b[0m, in \u001b[0;36m_MapDatasetFetcher.fetch\u001b[0;34m(self, possibly_batched_index)\u001b[0m\n\u001b[1;32m     49\u001b[0m         data \u001b[38;5;241m=\u001b[39m \u001b[38;5;28mself\u001b[39m\u001b[38;5;241m.\u001b[39mdataset\u001b[38;5;241m.\u001b[39m__getitems__(possibly_batched_index)\n\u001b[1;32m     50\u001b[0m     \u001b[38;5;28;01melse\u001b[39;00m:\n\u001b[0;32m---> 51\u001b[0m         data \u001b[38;5;241m=\u001b[39m [\u001b[38;5;28;43mself\u001b[39;49m\u001b[38;5;241;43m.\u001b[39;49m\u001b[43mdataset\u001b[49m\u001b[43m[\u001b[49m\u001b[43midx\u001b[49m\u001b[43m]\u001b[49m \u001b[38;5;28;01mfor\u001b[39;00m idx \u001b[38;5;129;01min\u001b[39;00m possibly_batched_index]\n\u001b[1;32m     52\u001b[0m \u001b[38;5;28;01melse\u001b[39;00m:\n\u001b[1;32m     53\u001b[0m     data \u001b[38;5;241m=\u001b[39m \u001b[38;5;28mself\u001b[39m\u001b[38;5;241m.\u001b[39mdataset[possibly_batched_index]\n",
      "Cell \u001b[0;32mIn[49], line 17\u001b[0m, in \u001b[0;36mGoEmotionDataset.__getitem__\u001b[0;34m(self, idx)\u001b[0m\n\u001b[1;32m     13\u001b[0m \u001b[38;5;28;01mdef\u001b[39;00m\u001b[38;5;250m \u001b[39m\u001b[38;5;21m__getitem__\u001b[39m(\u001b[38;5;28mself\u001b[39m, idx):\n\u001b[1;32m     14\u001b[0m     tokens \u001b[38;5;241m=\u001b[39m \u001b[38;5;28mself\u001b[39m\u001b[38;5;241m.\u001b[39mtokenizer(\n\u001b[1;32m     15\u001b[0m         \u001b[38;5;28mself\u001b[39m\u001b[38;5;241m.\u001b[39mtexts[idx], truncation\u001b[38;5;241m=\u001b[39m\u001b[38;5;28;01mTrue\u001b[39;00m, padding\u001b[38;5;241m=\u001b[39m\u001b[38;5;124m\"\u001b[39m\u001b[38;5;124mmax_length\u001b[39m\u001b[38;5;124m\"\u001b[39m, return_tensors\u001b[38;5;241m=\u001b[39m\u001b[38;5;124m\"\u001b[39m\u001b[38;5;124mpt\u001b[39m\u001b[38;5;124m\"\u001b[39m\n\u001b[1;32m     16\u001b[0m     )\n\u001b[0;32m---> 17\u001b[0m     label \u001b[38;5;241m=\u001b[39m \u001b[43mtorch\u001b[49m\u001b[38;5;241;43m.\u001b[39;49m\u001b[43mtensor\u001b[49m\u001b[43m(\u001b[49m\u001b[38;5;28;43mself\u001b[39;49m\u001b[38;5;241;43m.\u001b[39;49m\u001b[43mlabels\u001b[49m\u001b[43m[\u001b[49m\u001b[43midx\u001b[49m\u001b[43m]\u001b[49m\u001b[43m,\u001b[49m\u001b[43m \u001b[49m\u001b[43mdtype\u001b[49m\u001b[38;5;241;43m=\u001b[39;49m\u001b[43mtorch\u001b[49m\u001b[38;5;241;43m.\u001b[39;49m\u001b[43mfloat32\u001b[49m\u001b[43m)\u001b[49m\n\u001b[1;32m     18\u001b[0m     \u001b[38;5;28;01mreturn\u001b[39;00m tokens, label\n",
      "\u001b[0;31mTypeError\u001b[0m: new(): invalid data type 'str'"
     ]
    }
   ],
   "source": [
    "\n",
    "# Validation\n",
    "print(\"Starting validation...\")\n",
    "model.eval()\n",
    "with torch.no_grad():\n",
    "    for tokens, labels in val_loader:\n",
    "        tokens = {k: v.squeeze(0).to(\"cpu\") for k, v in tokens.items()}\n",
    "        labels = labels.to(\"cpu\")\n",
    "        outputs = model(**tokens, output_hidden_states=True)\n",
    "        hidden_states = outputs.hidden_states\n",
    "\n",
    "        for i, probe in enumerate(probes):\n",
    "            layer_rep = hidden_states[i]\n",
    "            logits = probe(layer_rep)\n",
    "            loss = loss_fn(logits, labels)\n",
    "            print(f\"Validation Loss for Layer {i}: {loss.item()}\")"
   ]
  }
 ],
 "metadata": {
  "kernelspec": {
   "display_name": ".venv",
   "language": "python",
   "name": "python3"
  },
  "language_info": {
   "codemirror_mode": {
    "name": "ipython",
    "version": 3
   },
   "file_extension": ".py",
   "mimetype": "text/x-python",
   "name": "python",
   "nbconvert_exporter": "python",
   "pygments_lexer": "ipython3",
   "version": "3.12.0"
  }
 },
 "nbformat": 4,
 "nbformat_minor": 2
}
